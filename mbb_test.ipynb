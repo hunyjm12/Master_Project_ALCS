{
 "cells": [
  {
   "cell_type": "code",
   "execution_count": 1,
   "id": "1300fdd6-afaa-43bc-b641-6ae08922156c",
   "metadata": {},
   "outputs": [],
   "source": [
    "import glob\n",
    "import pandas as pd\n",
    "import scipy.constants as scc\n",
    "from scipy.optimize import curve_fit\n",
    "from astropy.cosmology import FlatLambdaCDM\n",
    "import astropy.units as u\n",
    "import numpy as np\n",
    "import matplotlib.pyplot as plt\n",
    "from astropy.modeling import models, fitting\n",
    "import scipy\n",
    "import scipy.stats as stats\n",
    "from astropy.coordinates import SkyCoord\n",
    "from scipy.integrate import quad\n",
    "from matplotlib.offsetbox import AnchoredText\n",
    "import os\n",
    "import scipy.special as sc\n",
    "import gc\n",
    "import warnings\n",
    "import eazy\n",
    "import time\n",
    "import grizli\n",
    "import numpy as np\n",
    "from astropy.table import Table"
   ]
  },
  {
   "cell_type": "code",
   "execution_count": 2,
   "id": "6d100a5d-4b00-4eb5-a9c8-c25fa271a932",
   "metadata": {},
   "outputs": [],
   "source": [
    "def Lv(freq, A, beta, Tdust):\n",
    "    return A * freq**(3+beta) / (np.exp(h * freq / (k_b * Tdust ) ) - 1 )\n",
    "\n",
    "def Lv_rescaled(freq, N, A, beta, Tdust):  # Lv\n",
    "    return N * A * freq**(3+beta) / (np.exp(h * freq / (k_b * Tdust ) ) - 1 )\n",
    "\n",
    "def T_dust(z):\n",
    "    return 32.9 + 4.6*(z-2), 2.4+0.35*(z-2)  # mean value and dispersion"
   ]
  },
  {
   "cell_type": "code",
   "execution_count": 3,
   "id": "163d96d9-26a3-4e2f-bbfc-426afacf6c9e",
   "metadata": {},
   "outputs": [],
   "source": [
    "h = 6.62e-27 # erg/s\n",
    "k_b = 1.38e-16 # erg/K\n",
    "c = 3e10 # speed of light: cm/s\n",
    "sigma = 5.67e-5 # stefan boltzmann constant, erg/cm^2/s/K^4"
   ]
  },
  {
   "cell_type": "code",
   "execution_count": 4,
   "id": "1ac7071c-0255-4900-af72-2b320970c0ab",
   "metadata": {},
   "outputs": [],
   "source": [
    "path='/home/yjm/miniconda/Outputs'\n",
    "os.chdir(path)\n",
    "os.chdir('./a370')"
   ]
  },
  {
   "cell_type": "code",
   "execution_count": 5,
   "id": "f413176f-ce37-4c70-8282-507b58bc298d",
   "metadata": {},
   "outputs": [],
   "source": [
    "lamb_rest = (np.arange(8, 1200) * 1e-6  ) # micron meters to meters\n",
    "freq_rest = scc.c / lamb_rest # Hz\n",
    "freq_rest_8_1000 = scc.c / (np.arange(8, 1000) * 1e-6  )\n",
    "freq_sorted = np.sort(freq_rest)\n",
    "freq_8_1000_sorted = np.sort(freq_rest_8_1000)\n",
    "index_1000 = np.where(lamb_rest==np.min(abs(freq_sorted-1)))\n",
    "kappa0 = 1.3   # cm^2/g --> m^2/kg\n",
    "v0 = 6.66e11  #Hz\n",
    "M_16=[]\n",
    "M_84=[]\n",
    "M_50=[]\n",
    "beta_median=[]\n",
    "T_median=[]\n",
    "L_16 = []\n",
    "L_84 = []\n",
    "L_UV = []\n",
    "L_50 = []\n",
    "detected_fits = glob.glob('*alma_detected.fits')[0]\n",
    "table = Table.read(detected_fits)\n",
    "magnification = np.array(table['magnification'])\n",
    "Sv_obs = np.array(table['flux_1.2mm'])/magnification*1e-26   # from micron Jy to erg/sec/cm^2\n",
    "redshift = np.array([1., 2., 3., 4., 5., 6., 7., 8., 9., 10., 11., 12.])\n",
    "lamb_alma = 1200/(1 + redshift)*1e-6   # --> meter\n",
    "freq_alma = scc.c / lamb_alma\n",
    "num_iteration=1000\n",
    "beta = np.random.normal(1.8, 0.2, size=(num_iteration,))\n",
    "a=2e-26\n",
    "cosmo = FlatLambdaCDM(H0=70 * u.km / u.s / u.Mpc, Om0=0.3)"
   ]
  },
  {
   "cell_type": "code",
   "execution_count": 6,
   "id": "8fef3537-0c7e-482f-9d39-580f63c9fdeb",
   "metadata": {},
   "outputs": [
    {
     "data": {
      "image/png": "[encoded data removed]",
      "text/plain": [
       "<Figure size 432x288 with 1 Axes>"
      ]
     },
     "metadata": {
      "needs_background": "light"
     },
     "output_type": "display_data"
    }
   ],
   "source": [
    "for j in range(redshift.size):\n",
    "    d_L = cosmo.luminosity_distance(redshift[j])\n",
    "    d_L = d_L.to(u.cm)  # from parsec to cm\n",
    "    low, high = T_dust(redshift[j])\n",
    "    T = np.random.normal(low, high, size=(num_iteration,))\n",
    "    Lv_rest = 4*scc.pi*d_L**2*Sv_obs[0]/(1+redshift[j])  # unit: erg/s/Hz\n",
    "    lamb_obs = lamb_rest * (1 + redshift[j])\n",
    "    M_dust=[]\n",
    "    t_peak=[]\n",
    "    l_IR = []\n",
    "    for i in range(num_iteration):      # loop over random T and beta\n",
    "        N = Lv_rest.value / Lv(freq_alma[j], 2e-26, beta[i], T[i])\n",
    "        Lv_rescale = N  * Lv(freq_rest, 2e-26, beta[i], T[i]) \n",
    "        Sv_rescale = Lv_rescale * (1 + redshift[j]) / (4 * np.pi * d_L**2)\n",
    "        nu = 1.5e11 * (1+redshift[j])\n",
    "        kappa = kappa0 * (nu / v0)**beta[i]    # m^2/kg\n",
    "        # mistake here: Sv_rest and func() have different units\n",
    "        L = Lv_rest.value / (Lv(freq_alma[j], a, beta[i], T[i]) )  * Lv(nu, a, beta[i], T[i])\n",
    "        blackbody = 2 * h / c**2 * nu**3 / (np.exp(h*nu / (k_b*T[i])) - 1)\n",
    "        mass = L / (4 * np.pi * kappa * blackbody )  # kg\n",
    "        M_dust = np.append(M_dust, mass)\n",
    "        #L_integrated = np.sum(Lv_rescale[0:-1]) * dx[-1]\n",
    "        #sol=quad(Lv_rescaled, freq_rest_8_1000[-1], freq_rest_8_1000[0], args=(N, a, beta[i], T[i]))\n",
    "        #L_integrated = sol[0]\n",
    "        lamb_peak = scc.c / freq_rest[np.argmax(Lv_rescale)] * 1e6   # meter --> um\n",
    "        T_peak = 2898 / lamb_peak\n",
    "        t_peak = np.append(t_peak, T_peak)\n",
    "        L_integrated = 4 *np.pi * d_L.value**2 * sigma * T_peak**4\n",
    "        l_IR = np.append(l_IR, L_integrated/3.82e33 ) # in unit of L_sun\n",
    "    if j==0:\n",
    "        plt.hist(t_peak)\n",
    "    m_16 = np.percentile(M_dust, 16, method='nearest')\n",
    "    M_16 = np.append(M_16, m_16)\n",
    "    m_84 = np.percentile(M_dust, 84, method='nearest')\n",
    "    M_84 = np.append(M_84, m_84)\n",
    "    l_16 = np.percentile(l_IR, 16, method='nearest')\n",
    "    L_16 = np.append(L_16, l_16)\n",
    "    l_50 = np.percentile(l_IR, 50, method='nearest')\n",
    "    L_50 = np.append(L_50, l_50)\n",
    "    l_84 = np.percentile(l_IR, 84, method='nearest')\n",
    "    L_84 = np.append(L_84, l_84)\n",
    "    m_50 = np.percentile(M_dust, 50, method='nearest')\n",
    "    M_50 = np.append(M_50, m_50)"
   ]
  },
  {
   "cell_type": "code",
   "execution_count": 7,
   "id": "e0f78d4d-8167-48e3-ade9-3c5fb214adec",
   "metadata": {},
   "outputs": [
    {
     "name": "stdout",
     "output_type": "stream",
     "text": [
      "[5.27595539e+27 4.52227690e+28 2.39942374e+29 ... 1.52956189e+29\n",
      " 1.52522014e+29 1.52089422e+29]\n"
     ]
    }
   ],
   "source": [
    "print(Lv_rescale)"
   ]
  },
  {
   "cell_type": "code",
   "execution_count": 8,
   "id": "660f472f-9efb-41ab-b061-53808cdb782b",
   "metadata": {},
   "outputs": [
    {
     "name": "stdout",
     "output_type": "stream",
     "text": [
      "\n"
     ]
    }
   ],
   "source": [
    "print()"
   ]
  },
  {
   "cell_type": "code",
   "execution_count": 9,
   "id": "6d7f4dc3-a8f3-4ade-86b4-dc0734d89a95",
   "metadata": {},
   "outputs": [
    {
     "data": {
      "text/plain": [
       "<matplotlib.collections.PathCollection at 0x7fad73191580>"
      ]
     },
     "execution_count": 9,
     "metadata": {},
     "output_type": "execute_result"
    },
    {
     "data": {
      "image/png": "[encoded data removed]",
      "text/plain": [
       "<Figure size 432x288 with 1 Axes>"
      ]
     },
     "metadata": {
      "needs_background": "light"
     },
     "output_type": "display_data"
    }
   ],
   "source": [
    "#Mdust_errors = np.vstack([(M_50 - M_16), (M_84 - M_50)])\n",
    "\n",
    "plt.scatter(redshift, np.log10(M_50))\n",
    "plt.scatter(redshift, np.log10(M_16))\n",
    "plt.scatter(redshift, np.log10(M_84))\n",
    "#plt.errorbar(redshift, np.log10(M_50), yerr=np.log10(Mdust_errors))"
   ]
  },
  {
   "cell_type": "code",
   "execution_count": null,
   "id": "d02bab5a-3489-454f-bbb2-ad4589c4dc9d",
   "metadata": {},
   "outputs": [],
   "source": []
  },
  {
   "cell_type": "code",
   "execution_count": 10,
   "id": "a82d1077-9c14-4541-8c0a-a07d2037ec6f",
   "metadata": {},
   "outputs": [
    {
     "data": {
      "text/plain": [
       "<matplotlib.collections.PathCollection at 0x7fad7320a580>"
      ]
     },
     "execution_count": 10,
     "metadata": {},
     "output_type": "execute_result"
    },
    {
     "data": {
      "image/png": "[encoded data removed]",
      "text/plain": [
       "<Figure size 432x288 with 1 Axes>"
      ]
     },
     "metadata": {
      "needs_background": "light"
     },
     "output_type": "display_data"
    }
   ],
   "source": [
    "plt.scatter(redshift, np.log10(L_50))\n",
    "plt.scatter(redshift, np.log10(L_16))\n",
    "plt.scatter(redshift, np.log10(L_84))"
   ]
  },
  {
   "cell_type": "code",
   "execution_count": null,
   "id": "1fde81ca-8fec-4a22-8555-ffc63a4a8723",
   "metadata": {},
   "outputs": [],
   "source": []
  }
 ],
 "metadata": {
  "kernelspec": {
   "display_name": "Python 3 (ipykernel)",
   "language": "python",
   "name": "python3"
  },
  "language_info": {
   "codemirror_mode": {
    "name": "ipython",
    "version": 3
   },
   "file_extension": ".py",
   "mimetype": "text/x-python",
   "name": "python",
   "nbconvert_exporter": "python",
   "pygments_lexer": "ipython3",
   "version": "3.9.5"
  }
 },
 "nbformat": 4,
 "nbformat_minor": 5
}
