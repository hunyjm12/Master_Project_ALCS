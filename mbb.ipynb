{
 "cells": [
  {
   "cell_type": "code",
   "execution_count": 1,
   "id": "5c791a3f",
   "metadata": {},
   "outputs": [],
   "source": [
    "import glob\n",
    "import pandas as pd\n",
    "import scipy.constants as scc\n",
    "from scipy.optimize import curve_fit\n",
    "from astropy.cosmology import FlatLambdaCDM\n",
    "import astropy.units as u\n",
    "import numpy as np\n",
    "import matplotlib.pyplot as plt\n",
    "from astropy.modeling import models, fitting\n",
    "import scipy\n",
    "import scipy.stats as stats\n",
    "from scipy.integrate import quad\n",
    "from matplotlib.offsetbox import AnchoredText\n",
    "import os"
   ]
  },
  {
   "cell_type": "code",
   "execution_count": 2,
   "id": "1ce8833b",
   "metadata": {},
   "outputs": [],
   "source": [
    "import matplotlib\n",
    "\n",
    "font = {\n",
    "        'size'   : 13,\n",
    "        'family':'Serif',}\n",
    "\n",
    "matplotlib.rc('font', **font)\n",
    "matplotlib.rcParams['xtick.direction'] = 'in'\n",
    "matplotlib.rcParams['ytick.direction'] = 'in'"
   ]
  },
  {
   "cell_type": "markdown",
   "id": "5b989b9c-f3ae-434e-b3d1-cb54d7084428",
   "metadata": {},
   "source": [
    "Symbolic link: \\\n",
    "`ln -s *_full_table.fits *_irac_phot.fits`\n",
    "\\\n",
    "`ln -s *_full_table.fits *_irac_phot_apcorr.fits`"
   ]
  },
  {
   "cell_type": "code",
   "execution_count": 3,
   "id": "7fdd75b6-81ac-42e7-a64c-4b15486a08f2",
   "metadata": {},
   "outputs": [],
   "source": [
    "import grizli\n",
    "\n",
    "from grizli.pipeline import photoz\n",
    "import numpy as np\n",
    "\n",
    "#os.chdir('/home/oyster/OneDrive/thesis')\n"
   ]
  },
  {
   "cell_type": "code",
   "execution_count": 4,
   "id": "588697e5",
   "metadata": {},
   "outputs": [],
   "source": [
    "import main_body"
   ]
  },
  {
   "cell_type": "code",
   "execution_count": 5,
   "id": "986ca99a-ecc9-4050-a518-00d37afcaee1",
   "metadata": {},
   "outputs": [
    {
     "name": "stdout",
     "output_type": "stream",
     "text": [
      "Read default param file: j003212p1808_irac_masked.eazypy.zphot.param\n",
      "Read CATALOG_FILE: j003212p1808_irac_masked_phot_apcorr.fits\n",
      "   >>> NOBJ = 2445\n",
      "f105w_tot_2 f105w_etot_2 (202): hst/wfc3/IR/f105w.dat\n",
      "f125w_tot_2 f125w_etot_2 (203): hst/wfc3/IR/f125w.dat\n",
      "f140w_tot_2 f140w_etot_2 (204): hst/wfc3/IR/f140w.dat\n",
      "f160w_tot_2 f160w_etot_2 (205): hst/wfc3/IR/f160w.dat\n",
      "f435w_tot_2 f435w_etot_2 (233): hst/ACS_update_sep07/wfc_f435w_t81.dat\n",
      "f606w_tot_2 f606w_etot_2 (236): hst/ACS_update_sep07/wfc_f606w_t81.dat\n",
      "f814w_tot_2 f814w_etot_2 (239): hst/ACS_update_sep07/wfc_f814w_t81.dat\n",
      "irac_ch1_flux irac_ch1_err ( 18): IRAC/irac_tr1_2004-08-09.dat\n",
      "irac_ch2_flux irac_ch2_err ( 19): IRAC/irac_tr2_2004-08-09.dat\n",
      "Set sys_err = 0.05 (positive=True)\n",
      "Template grid: templates/fsps_full/tweak_fsps_QSF_12_v3.param (this may take some time)\n"
     ]
    },
    {
     "name": "stderr",
     "output_type": "stream",
     "text": [
      "100%|███████████████████████████████████████████████████████████████████████████████████| 12/12 [00:02<00:00,  5.37it/s]\n"
     ]
    },
    {
     "name": "stdout",
     "output_type": "stream",
     "text": [
      "Template   0: tweak_fsps_QSF_12_v3_001.dat (NZ=1).\n",
      "Template   1: tweak_fsps_QSF_12_v3_002.dat (NZ=1).\n",
      "Template   2: tweak_fsps_QSF_12_v3_003.dat (NZ=1).\n",
      "Template   3: tweak_fsps_QSF_12_v3_004.dat (NZ=1).\n",
      "Template   4: tweak_fsps_QSF_12_v3_005.dat (NZ=1).\n",
      "Template   5: tweak_fsps_QSF_12_v3_006.dat (NZ=1).\n",
      "Template   6: tweak_fsps_QSF_12_v3_007.dat (NZ=1).\n",
      "Template   7: tweak_fsps_QSF_12_v3_008.dat (NZ=1).\n",
      "Template   8: tweak_fsps_QSF_12_v3_009.dat (NZ=1).\n",
      "Template   9: tweak_fsps_QSF_12_v3_010.dat (NZ=1).\n",
      "Template  10: tweak_fsps_QSF_12_v3_011.dat (NZ=1).\n",
      "Template  11: tweak_fsps_QSF_12_v3_012.dat (NZ=1).\n",
      "Process templates: 3.049 s\n"
     ]
    },
    {
     "name": "stderr",
     "output_type": "stream",
     "text": [
      "256it [00:00, 1778.98it/s]\n"
     ]
    },
    {
     "name": "stdout",
     "output_type": "stream",
     "text": [
      "Load products: j003212p1808_irac_masked.eazypy.zout.fits\n",
      " ... Fit templates at zout[z_phot] \n",
      "fit_best: 0.4 s (n_proc=1,  NOBJ=2278)\n"
     ]
    },
    {
     "name": "stderr",
     "output_type": "stream",
     "text": [
      "/home/yjm/miniconda/main_body.py:267: RuntimeWarning: divide by zero encountered in log10\n",
      "  m_exp = int(np.log10((m_50/2e33) // 1))\n"
     ]
    },
    {
     "name": "stdout",
     "output_type": "stream",
     "text": [
      "r0032 is done\n",
      "Done in 83.4138 seconds\n"
     ]
    }
   ],
   "source": [
    "import time\n",
    "import multiprocessing as mp\n",
    "import multiprocessing.pool\n",
    "\n",
    "class NoDaemonProcess(mp.Process):\n",
    "    # make 'daemon' attribute always return False\n",
    "    def _get_daemon(self):\n",
    "        return False\n",
    "    def _set_daemon(self, value):\n",
    "        pass\n",
    "    daemon = property(_get_daemon, _set_daemon)\n",
    "\n",
    "class NonDaemonPool(multiprocessing.pool.Pool):\n",
    "    def Process(self, *args, **kwds):\n",
    "        proc = super(NonDaemonPool, self).Process(*args, **kwds)\n",
    "\n",
    "        class NonDaemonProcess(proc.__class__):\n",
    "            \"\"\"Monkey-patch process to ensure it is never daemonized\"\"\"\n",
    "            @property\n",
    "            def daemon(self):\n",
    "                return False\n",
    "\n",
    "            @daemon.setter\n",
    "            def daemon(self, val):\n",
    "                pass\n",
    "\n",
    "        proc.__class__ = NonDaemonProcess\n",
    "        return proc\n",
    "\n",
    "\n",
    "path='/home/yjm/miniconda/Outputs'\n",
    "os.chdir(path)\n",
    "files_list = glob.glob('*')\n",
    "if __name__ == '__main__':\n",
    "    tic = time.time()\n",
    "    pool = NonDaemonPool(3) \n",
    "    pool.map(main_body.main, files_list)\n",
    "    pool.close()\n",
    "    pool.join()\n",
    "    toc = time.time()\n",
    "    print('Done in {:.4f} seconds'.format(toc-tic))"
   ]
  },
  {
   "cell_type": "markdown",
   "id": "f8071b60",
   "metadata": {},
   "source": [
    "**From Kennicutt(1998a):**\n",
    "\\\n",
    "$\\operatorname{SFR}\\left(M_{\\odot} y r^{-1}\\right)=4.5 \\times 10^{-44} L_{\\mathrm{IR}}\\left(\\operatorname{erg} s^{-1}\\right)=1.71 \\times 10^{-10} L_{\\mathrm{IR}}\\left(L_{\\odot}\\right)$\n",
    "\\\n",
    "**From Whitaker+2014, ApJ, 795, 104:** \\\n",
    "$\\operatorname{SFR}\\left[M_{\\odot} \\mathrm{yr}^{-1}\\right]=1.09 \\times 10^{-10}\\left(L_{\\mathrm{IR}}+2.2 L_{\\mathrm{UV}}\\right)\\left[L_{\\odot}\\right]$, where $L_{\\mathrm{UV}}=1.5 v L_{v, 2800}$"
   ]
  },
  {
   "cell_type": "code",
   "execution_count": 6,
   "id": "ed366cc4",
   "metadata": {},
   "outputs": [
    {
     "ename": "NameError",
     "evalue": "name 'L_50' is not defined",
     "output_type": "error",
     "traceback": [
      "\u001b[0;31m---------------------------------------------------------------------------\u001b[0m",
      "\u001b[0;31mNameError\u001b[0m                                 Traceback (most recent call last)",
      "\u001b[0;32m/tmp/ipykernel_15307/215117713.py\u001b[0m in \u001b[0;36m<module>\u001b[0;34m\u001b[0m\n\u001b[0;32m----> 1\u001b[0;31m \u001b[0mSFR_IR\u001b[0m \u001b[0;34m=\u001b[0m \u001b[0;36m1.09e-10\u001b[0m \u001b[0;34m*\u001b[0m \u001b[0mL_50\u001b[0m\u001b[0;34m\u001b[0m\u001b[0;34m\u001b[0m\u001b[0m\n\u001b[0m\u001b[1;32m      2\u001b[0m \u001b[0mSv_nuv\u001b[0m \u001b[0;34m=\u001b[0m \u001b[0mnuv_flux\u001b[0m \u001b[0;34m*\u001b[0m \u001b[0;36m1e-29\u001b[0m \u001b[0;31m# from uJy to erg/s/cm^2\u001b[0m\u001b[0;34m\u001b[0m\u001b[0;34m\u001b[0m\u001b[0m\n\u001b[1;32m      3\u001b[0m \u001b[0mcosmo\u001b[0m \u001b[0;34m=\u001b[0m \u001b[0mFlatLambdaCDM\u001b[0m\u001b[0;34m(\u001b[0m\u001b[0mH0\u001b[0m\u001b[0;34m=\u001b[0m\u001b[0;36m70\u001b[0m \u001b[0;34m*\u001b[0m \u001b[0mu\u001b[0m\u001b[0;34m.\u001b[0m\u001b[0mkm\u001b[0m \u001b[0;34m/\u001b[0m \u001b[0mu\u001b[0m\u001b[0;34m.\u001b[0m\u001b[0ms\u001b[0m \u001b[0;34m/\u001b[0m \u001b[0mu\u001b[0m\u001b[0;34m.\u001b[0m\u001b[0mMpc\u001b[0m\u001b[0;34m,\u001b[0m \u001b[0mOm0\u001b[0m\u001b[0;34m=\u001b[0m\u001b[0;36m0.3\u001b[0m\u001b[0;34m)\u001b[0m\u001b[0;34m\u001b[0m\u001b[0;34m\u001b[0m\u001b[0m\n\u001b[1;32m      4\u001b[0m \u001b[0md_L\u001b[0m \u001b[0;34m=\u001b[0m \u001b[0mcosmo\u001b[0m\u001b[0;34m.\u001b[0m\u001b[0mluminosity_distance\u001b[0m\u001b[0;34m(\u001b[0m\u001b[0mz\u001b[0m\u001b[0;34m)\u001b[0m\u001b[0;34m.\u001b[0m\u001b[0mto\u001b[0m\u001b[0;34m(\u001b[0m\u001b[0mu\u001b[0m\u001b[0;34m.\u001b[0m\u001b[0mcm\u001b[0m\u001b[0;34m)\u001b[0m\u001b[0;34m\u001b[0m\u001b[0;34m\u001b[0m\u001b[0m\n\u001b[1;32m      5\u001b[0m \u001b[0mL_v\u001b[0m \u001b[0;34m=\u001b[0m \u001b[0;36m4\u001b[0m\u001b[0;34m*\u001b[0m\u001b[0;36m3.14\u001b[0m\u001b[0;34m*\u001b[0m\u001b[0md_L\u001b[0m\u001b[0;34m.\u001b[0m\u001b[0mvalue\u001b[0m\u001b[0;34m**\u001b[0m\u001b[0;36m2\u001b[0m\u001b[0;34m*\u001b[0m\u001b[0mSv_nuv\u001b[0m\u001b[0;34m\u001b[0m\u001b[0;34m\u001b[0m\u001b[0m\n",
      "\u001b[0;31mNameError\u001b[0m: name 'L_50' is not defined"
     ]
    }
   ],
   "source": [
    "SFR_IR = 1.09e-10 * L_50\n",
    "Sv_nuv = nuv_flux * 1e-29 # from uJy to erg/s/cm^2\n",
    "cosmo = FlatLambdaCDM(H0=70 * u.km / u.s / u.Mpc, Om0=0.3)\n",
    "d_L = cosmo.luminosity_distance(z).to(u.cm)\n",
    "L_v = 4*3.14*d_L.value**2*Sv_nuv\n",
    "# L_UV = 1.5 * nu(2800) *Lv(2800) \n",
    "L_UV = 1.5 * 3e8 / 2.8e-7 * L_v / 3.82e33\n",
    "\n",
    "SFR_UV = 2.2 * 1.09e-10 * L_UV\n",
    "print(SFR_UV)\n",
    "print(L_UV)"
   ]
  },
  {
   "cell_type": "code",
   "execution_count": null,
   "id": "6b424a01",
   "metadata": {},
   "outputs": [],
   "source": [
    "fig, axes = plt.subplots(figsize=(20,5))\n",
    "axes.axis('off')\n",
    "ax = fig.add_subplot(131)\n",
    "ax.scatter(M_50/2e33, M_50/2e33/M_stellar*100)\n",
    "for i, txt in enumerate(ids):\n",
    "    ax.annotate(txt, (M_50[i]/2e33, M_50[i]/M_stellar[i]/2e33*100))\n",
    "ax.set_xlabel(r'$\\mu (M_{dust}) \\ /  \\ M_{\\odot}  $')\n",
    "ax.set_ylabel(r'$\\frac{M_{dust}}{M_{*}}\\times $100%')\n",
    "\n",
    "ax = fig.add_subplot(132)\n",
    "ax.scatter(M_50/2e33, Av)\n",
    "ax.set_xscale('log')\n",
    "for i, txt in enumerate(ids):\n",
    "    ax.annotate(txt, (M_50[i]/2e33, Av[i]))\n",
    "ax.set_xlabel(r'$\\mu (M_{dust}) \\ /  \\ M_{\\odot}  $')\n",
    "ax.set_ylabel(r'$Av$')\n",
    "\n",
    "ax = fig.add_subplot(133)\n",
    "x = np.arange(0,500)\n",
    "y = x\n",
    "ax.scatter(SFR_IR+SFR_UV, sfr)\n",
    "ax.set_ylim(0,200)\n",
    "ax.plot(x, y, label=r'$SFR_{eazy} = SFR_{IR}+SFR_{UV}$')\n",
    "for i, txt in enumerate(ids):\n",
    "    ax.annotate(txt, (SFR_IR[i]+SFR_UV[i], sfr[i]))\n",
    "ax.set_xlabel(r'$\\mu(SFR_{IR} + SFR_{UV}) \\ / \\ [M_{\\odot} / yr]  $')\n",
    "ax.set_ylabel(r'$SFR_{eazy}\\ / \\ [M_{\\odot} / yr]$')\n",
    "ax.legend()"
   ]
  },
  {
   "cell_type": "code",
   "execution_count": null,
   "id": "635b6f65",
   "metadata": {},
   "outputs": [],
   "source": [
    "np.set_printoptions(precision=2)\n",
    "\n",
    "difference16 = M_50 - M_16\n",
    "\n",
    "difference84 = M_84 - M_50\n",
    "df = pd.DataFrame({'ID': ids,\n",
    "                    'M(50%) / M_sun': M_50/2e33,\n",
    "                   'M(50%)-M(16%) / M_sun': difference16/2e33,\n",
    "                   'M(84%)-M(50%) / M_sun': difference84/2e33,\n",
    "                   'L_IR(50%) / L_sun':L_50 ,\n",
    "                   'L_IR(50%)-L_IR(16%) / L_sun':L_50 - L_16,\n",
    "                   'L_IR(84%)-L_IR(50%) / L_sun':L_84 - L_50\n",
    "                  })\n",
    "df.to_csv(path.split('/')[-1]+'_dustmass_L_IR.txt', sep='\\t')"
   ]
  },
  {
   "cell_type": "code",
   "execution_count": null,
   "id": "89b1f50b",
   "metadata": {},
   "outputs": [],
   "source": [
    "print(L_16)\n",
    "print(L_50)\n",
    "print(L_50 - L_16)"
   ]
  },
  {
   "cell_type": "code",
   "execution_count": null,
   "id": "719dc47d",
   "metadata": {},
   "outputs": [],
   "source": [
    "print(L_50)"
   ]
  },
  {
   "cell_type": "code",
   "execution_count": null,
   "id": "b16af9d7",
   "metadata": {},
   "outputs": [],
   "source": []
  },
  {
   "cell_type": "code",
   "execution_count": null,
   "id": "7d587a88-6881-449c-9f9b-7d8e7ce8ec84",
   "metadata": {},
   "outputs": [],
   "source": []
  }
 ],
 "metadata": {
  "kernelspec": {
   "display_name": "Python 3 (ipykernel)",
   "language": "python",
   "name": "python3"
  },
  "language_info": {
   "codemirror_mode": {
    "name": "ipython",
    "version": 3
   },
   "file_extension": ".py",
   "mimetype": "text/x-python",
   "name": "python",
   "nbconvert_exporter": "python",
   "pygments_lexer": "ipython3",
   "version": "3.9.5"
  }
 },
 "nbformat": 4,
 "nbformat_minor": 5
}
